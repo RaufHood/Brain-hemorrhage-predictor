{
 "cells": [
  {
   "cell_type": "markdown",
   "id": "bbc84f86",
   "metadata": {},
   "source": [
    "# Intraventricular Hemorrage prediction in Preterm infants\n",
    "Inspied by the paper:  \n",
    "Machine learning models for identifying preterm infants at risk of cerebral hemorrhage. Varvara Turova, Irina Sidorenko"
   ]
  },
  {
   "cell_type": "markdown",
   "id": "1e7d2be8",
   "metadata": {},
   "source": [
    "## Data preparation"
   ]
  },
  {
   "cell_type": "code",
   "execution_count": 988,
   "id": "d4cb2074",
   "metadata": {},
   "outputs": [],
   "source": [
    "#!pip install keras\n",
    "#!pip install tensorflow\n",
    "#!pip install -U imbalanced-learn, scikit-learn\n",
    "#!pip install xgboost"
   ]
  },
  {
   "cell_type": "code",
   "execution_count": 989,
   "id": "cacfb634",
   "metadata": {},
   "outputs": [],
   "source": [
    "import pandas as pd\n",
    "import numpy as np\n",
    "import matplotlib.pyplot as plt\n",
    "import seaborn as sns"
   ]
  },
  {
   "cell_type": "code",
   "execution_count": 990,
   "id": "d12d77cc",
   "metadata": {},
   "outputs": [],
   "source": [
    "# load data and set IVH level to binary 0 or 1\n",
    "df = pd.read_csv('Table_preterm_2019_articleMLM.csv', sep=';')\n",
    "df.columns = df.columns.str.lower().str.replace(' ','_') \n",
    "df.columns = df.columns.str.lower().str.replace(':','_') \n",
    "df.columns = df.columns.str.lower().str.replace(',','') \n",
    "df.columns = df.columns.str.lower().str.replace('-','_') \n",
    "df.columns = df.columns.str.lower().str.replace('/','_or_') \n",
    "df.columns = df.columns.str.lower().str.replace('#','') "
   ]
  },
  {
   "cell_type": "markdown",
   "id": "44f1840d",
   "metadata": {},
   "source": [
    "## Exploratory Analisis"
   ]
  },
  {
   "cell_type": "code",
   "execution_count": 609,
   "id": "524a73d0",
   "metadata": {},
   "outputs": [],
   "source": [
    "#df.T\n",
    "#df.gender.value_counts()\n",
    "#df.birth__1_natural_2_caesarean.value_counts()"
   ]
  },
  {
   "cell_type": "code",
   "execution_count": 991,
   "id": "7dd0d4a9",
   "metadata": {},
   "outputs": [
    {
     "name": "stdout",
     "output_type": "stream",
     "text": [
      "patient\n",
      "[1 2 3 4 5]\n",
      "316\n",
      "\n",
      "wg\n",
      "[23.5 23.6 24.4 24.1 24.2]\n",
      "74\n",
      "\n",
      "gender\n",
      "[2 1 0]\n",
      "3\n",
      "\n",
      "body_weight\n",
      "[490 450 335 850 710]\n",
      "154\n",
      "\n",
      "grad_ivh\n",
      "[3 2 1 4 0]\n",
      "5\n",
      "\n",
      "day_of_ivh\n",
      "[3 1 2 4 8]\n",
      "17\n",
      "\n",
      "birth__1_natural_2_caesarean\n",
      "[2 1 3 4]\n",
      "4\n",
      "\n",
      "number_of_children\n",
      "[1 2 3]\n",
      "3\n",
      "\n",
      "apgar_1min\n",
      "[1. 2. 7. 5. 6.]\n",
      "12\n",
      "\n",
      "apgar_5min\n",
      "[1 5 4 8 7]\n",
      "11\n",
      "\n",
      "apgar_10min\n",
      "[2 6 7 0 8]\n",
      "11\n",
      "\n",
      "day_pf_life\n",
      "[1.1 1.2 2.1 2.2 2.3]\n",
      "167\n",
      "\n",
      "day_befor_or_after_ivh\n",
      "[-2.2 -2.1 -1.7 -1.6 -1.5]\n",
      "146\n",
      "\n",
      "ph\n",
      "[0.   7.3  7.23 7.14 7.25]\n",
      "421\n",
      "\n",
      "pco2\n",
      "[ 0.  36.1 49.1 52.7 39.9]\n",
      "569\n",
      "\n",
      "po2\n",
      "[ 0.  47.2 50.9 49.7 44.1]\n",
      "620\n",
      "\n",
      "sao2\n",
      "[ 0. 91. 30. 94. 90.]\n",
      "70\n",
      "\n",
      "map\n",
      "[ 0 22 23 28 40]\n",
      "78\n",
      "\n",
      "leukocytes\n",
      "[ 8.06  9.83  9.59  7.3  15.1 ]\n",
      "1334\n",
      "\n",
      "hematocrit\n",
      "[0.    0.464 0.444 0.508 0.433]\n",
      "375\n",
      "\n",
      "thrombocytes\n",
      "[197. 170. 134. 164. 159.]\n",
      "367\n",
      "\n",
      "crp\n",
      "[0.  0.1 0.5 0.3 0.4]\n",
      "93\n",
      "\n"
     ]
    }
   ],
   "source": [
    "for col in df.columns:\n",
    "    print(col)\n",
    "    print(df[col].unique()[:5])\n",
    "    print(df[col].nunique())\n",
    "    print()"
   ]
  },
  {
   "cell_type": "code",
   "execution_count": 994,
   "id": "ec4da81c",
   "metadata": {},
   "outputs": [
    {
     "data": {
      "text/plain": [
       "grad_ivh\n",
       "0    170\n",
       "3     49\n",
       "2     45\n",
       "1     44\n",
       "4      8\n",
       "Name: count, dtype: int64"
      ]
     },
     "execution_count": 994,
     "metadata": {},
     "output_type": "execute_result"
    }
   ],
   "source": [
    "# value count of eahc degree of hemorrage\n",
    "degree_ivh = df.groupby('patient').grad_ivh.max()\n",
    "vc = degree_ivh.value_counts()\n",
    "vc"
   ]
  },
  {
   "cell_type": "markdown",
   "id": "df8376df",
   "metadata": {},
   "source": [
    "## Data preprocessing"
   ]
  },
  {
   "cell_type": "code",
   "execution_count": 995,
   "id": "8b9a739e",
   "metadata": {},
   "outputs": [],
   "source": [
    "df_n = df[df.day_of_ivh == 0]\n",
    "df_p = df[df.day_of_ivh > 1] # bigger than 1 cause not enough data\n",
    "df_p_f = df_p[df_p.day_befor_or_after_ivh < 0]\n",
    "dff = pd.concat([df_p_f,df_n], ignore_index=True)"
   ]
  },
  {
   "cell_type": "code",
   "execution_count": 996,
   "id": "a805e1bd",
   "metadata": {},
   "outputs": [],
   "source": [
    "dff['grad_ivh'] = dff['grad_ivh'].replace([1,2,3,4],1)"
   ]
  },
  {
   "cell_type": "code",
   "execution_count": 997,
   "id": "ca0730bb",
   "metadata": {},
   "outputs": [],
   "source": [
    "del dff['day_of_ivh']\n",
    "del dff['day_befor_or_after_ivh']\n",
    "del dff['day_pf_life']"
   ]
  },
  {
   "cell_type": "code",
   "execution_count": 998,
   "id": "aeabac08",
   "metadata": {},
   "outputs": [],
   "source": [
    "columns = list(dff.columns)"
   ]
  },
  {
   "cell_type": "code",
   "execution_count": 1000,
   "id": "70988ddd",
   "metadata": {},
   "outputs": [],
   "source": [
    "col_no_agg = [\n",
    "    'wg', 'gender', 'body_weight', 'grad_ivh', \n",
    "    'birth__1_natural_2_caesarean',\n",
    "    'number_of_children'\n",
    "    ]"
   ]
  },
  {
   "cell_type": "code",
   "execution_count": 1003,
   "id": "ed12504e",
   "metadata": {},
   "outputs": [],
   "source": [
    "# columns that don't need to be aggregated\n",
    "col_no_agg = [\n",
    "    'wg', 'gender', 'body_weight', 'grad_ivh', \n",
    "    'birth__1_natural_2_caesarean',\n",
    "    'number_of_children'\n",
    "    ]\n",
    "\n",
    "# Performing aggregation of the datapüoints regarrding one patient\n",
    "col_agg = [x for x in columns if x not in col_no_agg]\n",
    "if len(col_agg)!=0:\n",
    "    dff_agg = dff[col_agg].groupby('patient').agg(['mean', 'min', 'max']).reset_index()\n",
    "    # Flattening the multi-level column names\n",
    "    dff_agg.columns = ['_'.join(col) for col in dff_agg.columns]\n",
    "    \n",
    "# For col_no_agg, we simply take the first non-null occurrence (since we don't want to aggregate them)\n",
    "dff_aggregated = dff.groupby('patient')[col_no_agg].first()\n",
    "if len(col_agg)!=0:\n",
    "    # Merge the two DataFrames back together on 'patient'\n",
    "    dff_aggregated = pd.merge(dff_aggregated, dff_agg, left_on='patient', right_on='patient_')\n"
   ]
  },
  {
   "cell_type": "code",
   "execution_count": 1004,
   "id": "df8e337b",
   "metadata": {},
   "outputs": [
    {
     "data": {
      "text/plain": [
       "Index(['wg', 'gender', 'body_weight', 'grad_ivh',\n",
       "       'birth__1_natural_2_caesarean', 'number_of_children', 'patient_',\n",
       "       'apgar_1min_mean', 'apgar_1min_min', 'apgar_1min_max',\n",
       "       'apgar_5min_mean', 'apgar_5min_min', 'apgar_5min_max',\n",
       "       'apgar_10min_mean', 'apgar_10min_min', 'apgar_10min_max', 'ph_mean',\n",
       "       'ph_min', 'ph_max', 'pco2_mean', 'pco2_min', 'pco2_max', 'po2_mean',\n",
       "       'po2_min', 'po2_max', 'sao2_mean', 'sao2_min', 'sao2_max', 'map_mean',\n",
       "       'map_min', 'map_max', 'leukocytes_mean', 'leukocytes_min',\n",
       "       'leukocytes_max', 'hematocrit_mean', 'hematocrit_min', 'hematocrit_max',\n",
       "       'thrombocytes_mean', 'thrombocytes_min', 'thrombocytes_max', 'crp_mean',\n",
       "       'crp_min', 'crp_max'],\n",
       "      dtype='object')"
      ]
     },
     "execution_count": 1004,
     "metadata": {},
     "output_type": "execute_result"
    }
   ],
   "source": [
    "dff_aggregated.columns"
   ]
  },
  {
   "cell_type": "code",
   "execution_count": 1005,
   "id": "35366d04",
   "metadata": {},
   "outputs": [],
   "source": [
    "#del dff_aggregated['patient']\n",
    "del dff_aggregated['patient_']"
   ]
  },
  {
   "cell_type": "code",
   "execution_count": 1006,
   "id": "e10f9b6e",
   "metadata": {},
   "outputs": [
    {
     "data": {
      "text/plain": [
       "wg                              0\n",
       "gender                          0\n",
       "body_weight                     0\n",
       "grad_ivh                        0\n",
       "birth__1_natural_2_caesarean    0\n",
       "number_of_children              0\n",
       "apgar_1min_mean                 0\n",
       "apgar_1min_min                  0\n",
       "apgar_1min_max                  0\n",
       "apgar_5min_mean                 0\n",
       "apgar_5min_min                  0\n",
       "apgar_5min_max                  0\n",
       "apgar_10min_mean                0\n",
       "apgar_10min_min                 0\n",
       "apgar_10min_max                 0\n",
       "ph_mean                         0\n",
       "ph_min                          0\n",
       "ph_max                          0\n",
       "pco2_mean                       0\n",
       "pco2_min                        0\n",
       "pco2_max                        0\n",
       "po2_mean                        0\n",
       "po2_min                         0\n",
       "po2_max                         0\n",
       "sao2_mean                       0\n",
       "sao2_min                        0\n",
       "sao2_max                        0\n",
       "map_mean                        0\n",
       "map_min                         0\n",
       "map_max                         0\n",
       "leukocytes_mean                 0\n",
       "leukocytes_min                  0\n",
       "leukocytes_max                  0\n",
       "hematocrit_mean                 0\n",
       "hematocrit_min                  0\n",
       "hematocrit_max                  0\n",
       "thrombocytes_mean               0\n",
       "thrombocytes_min                0\n",
       "thrombocytes_max                0\n",
       "crp_mean                        0\n",
       "crp_min                         0\n",
       "crp_max                         0\n",
       "dtype: int64"
      ]
     },
     "execution_count": 1006,
     "metadata": {},
     "output_type": "execute_result"
    }
   ],
   "source": [
    "dff_aggregated.isnull().sum()\n",
    "dff_aggregated=dff_aggregated.fillna(0)\n",
    "dff_aggregated.isnull().sum()\n",
    "#fillna(0)"
   ]
  },
  {
   "cell_type": "markdown",
   "id": "99f588d9",
   "metadata": {},
   "source": [
    "## Validation split"
   ]
  },
  {
   "cell_type": "code",
   "execution_count": 1007,
   "id": "e2abcd7c",
   "metadata": {},
   "outputs": [],
   "source": [
    "from sklearn.model_selection import train_test_split"
   ]
  },
  {
   "cell_type": "code",
   "execution_count": 1009,
   "id": "efed28da",
   "metadata": {},
   "outputs": [],
   "source": [
    "df_full_train , df_test = train_test_split(dff_aggregated, test_size=0.2, random_state=1)\n",
    "df_train , df_val = train_test_split(df_full_train, test_size=0.25, random_state=1)"
   ]
  },
  {
   "cell_type": "code",
   "execution_count": 1011,
   "id": "e5be658f",
   "metadata": {},
   "outputs": [
    {
     "data": {
      "text/plain": [
       "(178, 60, 60)"
      ]
     },
     "execution_count": 1011,
     "metadata": {},
     "output_type": "execute_result"
    }
   ],
   "source": [
    "len(df_train), len(df_val), len(df_test)"
   ]
  },
  {
   "cell_type": "code",
   "execution_count": 1012,
   "id": "9211ff69",
   "metadata": {},
   "outputs": [],
   "source": [
    "df_train = df_train.reset_index(drop=True)\n",
    "df_val = df_val.reset_index(drop=True)\n",
    "df_test = df_test.reset_index(drop=True)"
   ]
  },
  {
   "cell_type": "code",
   "execution_count": 1013,
   "id": "46a9f7d4",
   "metadata": {},
   "outputs": [],
   "source": [
    "y_train = df_train.grad_ivh.values\n",
    "y_val = df_val.grad_ivh.values\n",
    "y_test = df_test.grad_ivh.values"
   ]
  },
  {
   "cell_type": "code",
   "execution_count": 1061,
   "id": "0dc7b209",
   "metadata": {},
   "outputs": [
    {
     "data": {
      "text/plain": [
       "178"
      ]
     },
     "execution_count": 1061,
     "metadata": {},
     "output_type": "execute_result"
    }
   ],
   "source": [
    "len(y_train)"
   ]
  },
  {
   "cell_type": "code",
   "execution_count": 1014,
   "id": "c921a7ef",
   "metadata": {},
   "outputs": [],
   "source": [
    "del df_train['grad_ivh']\n",
    "del df_val['grad_ivh']\n",
    "del df_test['grad_ivh']"
   ]
  },
  {
   "cell_type": "code",
   "execution_count": 1015,
   "id": "5d65d313",
   "metadata": {},
   "outputs": [
    {
     "data": {
      "text/plain": [
       "grad_ivh\n",
       "0    0.554622\n",
       "1    0.445378\n",
       "Name: proportion, dtype: float64"
      ]
     },
     "execution_count": 1015,
     "metadata": {},
     "output_type": "execute_result"
    }
   ],
   "source": [
    "df_full_train.grad_ivh.value_counts(normalize=True)"
   ]
  },
  {
   "cell_type": "markdown",
   "id": "3005e20b",
   "metadata": {},
   "source": [
    "Now that the dataset is aggregated, it is balanced"
   ]
  },
  {
   "cell_type": "code",
   "execution_count": 1016,
   "id": "b118b30b",
   "metadata": {},
   "outputs": [
    {
     "data": {
      "text/plain": [
       "0.44537815126050423"
      ]
     },
     "execution_count": 1016,
     "metadata": {},
     "output_type": "execute_result"
    }
   ],
   "source": [
    "global_rate = df_full_train.grad_ivh.mean()\n",
    "global_rate"
   ]
  },
  {
   "cell_type": "markdown",
   "id": "c9dfb3ac",
   "metadata": {},
   "source": [
    "### features and mutual info"
   ]
  },
  {
   "cell_type": "code",
   "execution_count": 872,
   "id": "5c6f0e13",
   "metadata": {},
   "outputs": [],
   "source": [
    "from IPython.display import display"
   ]
  },
  {
   "cell_type": "code",
   "execution_count": 873,
   "id": "ec5036c1",
   "metadata": {},
   "outputs": [
    {
     "data": {
      "text/plain": [
       "['wg',\n",
       " 'gender',\n",
       " 'body_weight',\n",
       " 'grad_ivh',\n",
       " 'birth__1_natural_2_caesarean',\n",
       " 'number_of_children',\n",
       " 'apgar_1min_mean',\n",
       " 'apgar_1min_min',\n",
       " 'apgar_1min_max',\n",
       " 'apgar_5min_mean',\n",
       " 'apgar_5min_min',\n",
       " 'apgar_5min_max',\n",
       " 'apgar_10min_mean',\n",
       " 'apgar_10min_min',\n",
       " 'apgar_10min_max',\n",
       " 'ph_mean',\n",
       " 'ph_min',\n",
       " 'ph_max',\n",
       " 'pco2_mean',\n",
       " 'pco2_min',\n",
       " 'pco2_max',\n",
       " 'po2_mean',\n",
       " 'po2_min',\n",
       " 'po2_max',\n",
       " 'sao2_mean',\n",
       " 'sao2_min',\n",
       " 'sao2_max',\n",
       " 'map_mean',\n",
       " 'map_min',\n",
       " 'map_max',\n",
       " 'leukocytes_mean',\n",
       " 'leukocytes_min',\n",
       " 'leukocytes_max',\n",
       " 'hematocrit_mean',\n",
       " 'hematocrit_min',\n",
       " 'hematocrit_max',\n",
       " 'thrombocytes_mean',\n",
       " 'thrombocytes_min',\n",
       " 'thrombocytes_max',\n",
       " 'crp_mean',\n",
       " 'crp_min',\n",
       " 'crp_max']"
      ]
     },
     "execution_count": 873,
     "metadata": {},
     "output_type": "execute_result"
    }
   ],
   "source": [
    "features = list(df_full_train.columns)\n",
    "features"
   ]
  },
  {
   "cell_type": "code",
   "execution_count": 874,
   "id": "ead4fe7c",
   "metadata": {},
   "outputs": [],
   "source": [
    "#for c in col_no_agg:\n",
    "#    df_group = df_full_train.groupby(c).grad_ivh.agg(['mean', 'count'])\n",
    "#    df_group['diff'] = df_group['mean'] - global_rate\n",
    "#    df_group['risk'] = df_group['mean'] / global_rate\n",
    "#    display(df_group)"
   ]
  },
  {
   "cell_type": "code",
   "execution_count": 875,
   "id": "dc9ddcbf",
   "metadata": {},
   "outputs": [
    {
     "data": {
      "text/html": [
       "<div>\n",
       "<style scoped>\n",
       "    .dataframe tbody tr th:only-of-type {\n",
       "        vertical-align: middle;\n",
       "    }\n",
       "\n",
       "    .dataframe tbody tr th {\n",
       "        vertical-align: top;\n",
       "    }\n",
       "\n",
       "    .dataframe thead th {\n",
       "        text-align: right;\n",
       "    }\n",
       "</style>\n",
       "<table border=\"1\" class=\"dataframe\">\n",
       "  <thead>\n",
       "    <tr style=\"text-align: right;\">\n",
       "      <th></th>\n",
       "      <th>wg</th>\n",
       "      <th>gender</th>\n",
       "      <th>body_weight</th>\n",
       "      <th>grad_ivh</th>\n",
       "      <th>birth__1_natural_2_caesarean</th>\n",
       "      <th>number_of_children</th>\n",
       "      <th>apgar_1min_mean</th>\n",
       "      <th>apgar_1min_min</th>\n",
       "      <th>apgar_1min_max</th>\n",
       "      <th>apgar_5min_mean</th>\n",
       "      <th>...</th>\n",
       "      <th>leukocytes_max</th>\n",
       "      <th>hematocrit_mean</th>\n",
       "      <th>hematocrit_min</th>\n",
       "      <th>hematocrit_max</th>\n",
       "      <th>thrombocytes_mean</th>\n",
       "      <th>thrombocytes_min</th>\n",
       "      <th>thrombocytes_max</th>\n",
       "      <th>crp_mean</th>\n",
       "      <th>crp_min</th>\n",
       "      <th>crp_max</th>\n",
       "    </tr>\n",
       "  </thead>\n",
       "  <tbody>\n",
       "    <tr>\n",
       "      <th>181</th>\n",
       "      <td>25.5</td>\n",
       "      <td>1</td>\n",
       "      <td>790</td>\n",
       "      <td>0</td>\n",
       "      <td>2</td>\n",
       "      <td>1</td>\n",
       "      <td>6.0</td>\n",
       "      <td>6.0</td>\n",
       "      <td>6.0</td>\n",
       "      <td>9.0</td>\n",
       "      <td>...</td>\n",
       "      <td>10.30</td>\n",
       "      <td>0.133250</td>\n",
       "      <td>0.000</td>\n",
       "      <td>0.522</td>\n",
       "      <td>73.500000</td>\n",
       "      <td>0.0</td>\n",
       "      <td>292.0</td>\n",
       "      <td>0.266667</td>\n",
       "      <td>0.0</td>\n",
       "      <td>1.2</td>\n",
       "    </tr>\n",
       "    <tr>\n",
       "      <th>107</th>\n",
       "      <td>28.4</td>\n",
       "      <td>2</td>\n",
       "      <td>1280</td>\n",
       "      <td>1</td>\n",
       "      <td>2</td>\n",
       "      <td>1</td>\n",
       "      <td>7.0</td>\n",
       "      <td>7.0</td>\n",
       "      <td>7.0</td>\n",
       "      <td>8.0</td>\n",
       "      <td>...</td>\n",
       "      <td>22.32</td>\n",
       "      <td>0.237850</td>\n",
       "      <td>0.000</td>\n",
       "      <td>0.520</td>\n",
       "      <td>38.250000</td>\n",
       "      <td>0.0</td>\n",
       "      <td>301.0</td>\n",
       "      <td>3.430000</td>\n",
       "      <td>0.0</td>\n",
       "      <td>13.2</td>\n",
       "    </tr>\n",
       "    <tr>\n",
       "      <th>217</th>\n",
       "      <td>27.5</td>\n",
       "      <td>1</td>\n",
       "      <td>800</td>\n",
       "      <td>0</td>\n",
       "      <td>2</td>\n",
       "      <td>1</td>\n",
       "      <td>8.0</td>\n",
       "      <td>8.0</td>\n",
       "      <td>8.0</td>\n",
       "      <td>9.0</td>\n",
       "      <td>...</td>\n",
       "      <td>15.34</td>\n",
       "      <td>0.187880</td>\n",
       "      <td>0.000</td>\n",
       "      <td>0.545</td>\n",
       "      <td>58.560000</td>\n",
       "      <td>0.0</td>\n",
       "      <td>158.0</td>\n",
       "      <td>1.228000</td>\n",
       "      <td>0.0</td>\n",
       "      <td>5.5</td>\n",
       "    </tr>\n",
       "    <tr>\n",
       "      <th>184</th>\n",
       "      <td>25.2</td>\n",
       "      <td>1</td>\n",
       "      <td>765</td>\n",
       "      <td>0</td>\n",
       "      <td>3</td>\n",
       "      <td>1</td>\n",
       "      <td>8.0</td>\n",
       "      <td>8.0</td>\n",
       "      <td>8.0</td>\n",
       "      <td>8.0</td>\n",
       "      <td>...</td>\n",
       "      <td>18.76</td>\n",
       "      <td>0.109364</td>\n",
       "      <td>0.000</td>\n",
       "      <td>0.538</td>\n",
       "      <td>56.500000</td>\n",
       "      <td>0.0</td>\n",
       "      <td>298.0</td>\n",
       "      <td>0.386364</td>\n",
       "      <td>0.0</td>\n",
       "      <td>0.5</td>\n",
       "    </tr>\n",
       "    <tr>\n",
       "      <th>39</th>\n",
       "      <td>23.3</td>\n",
       "      <td>1</td>\n",
       "      <td>700</td>\n",
       "      <td>1</td>\n",
       "      <td>3</td>\n",
       "      <td>3</td>\n",
       "      <td>0.1</td>\n",
       "      <td>0.1</td>\n",
       "      <td>0.1</td>\n",
       "      <td>3.0</td>\n",
       "      <td>...</td>\n",
       "      <td>25.28</td>\n",
       "      <td>0.431667</td>\n",
       "      <td>0.000</td>\n",
       "      <td>0.552</td>\n",
       "      <td>168.166667</td>\n",
       "      <td>0.0</td>\n",
       "      <td>207.0</td>\n",
       "      <td>0.250000</td>\n",
       "      <td>0.0</td>\n",
       "      <td>0.5</td>\n",
       "    </tr>\n",
       "    <tr>\n",
       "      <th>...</th>\n",
       "      <td>...</td>\n",
       "      <td>...</td>\n",
       "      <td>...</td>\n",
       "      <td>...</td>\n",
       "      <td>...</td>\n",
       "      <td>...</td>\n",
       "      <td>...</td>\n",
       "      <td>...</td>\n",
       "      <td>...</td>\n",
       "      <td>...</td>\n",
       "      <td>...</td>\n",
       "      <td>...</td>\n",
       "      <td>...</td>\n",
       "      <td>...</td>\n",
       "      <td>...</td>\n",
       "      <td>...</td>\n",
       "      <td>...</td>\n",
       "      <td>...</td>\n",
       "      <td>...</td>\n",
       "      <td>...</td>\n",
       "      <td>...</td>\n",
       "    </tr>\n",
       "    <tr>\n",
       "      <th>203</th>\n",
       "      <td>26.4</td>\n",
       "      <td>2</td>\n",
       "      <td>780</td>\n",
       "      <td>0</td>\n",
       "      <td>2</td>\n",
       "      <td>1</td>\n",
       "      <td>7.0</td>\n",
       "      <td>7.0</td>\n",
       "      <td>7.0</td>\n",
       "      <td>7.0</td>\n",
       "      <td>...</td>\n",
       "      <td>11.72</td>\n",
       "      <td>0.050650</td>\n",
       "      <td>0.000</td>\n",
       "      <td>0.509</td>\n",
       "      <td>24.650000</td>\n",
       "      <td>0.0</td>\n",
       "      <td>263.0</td>\n",
       "      <td>0.425000</td>\n",
       "      <td>0.0</td>\n",
       "      <td>0.5</td>\n",
       "    </tr>\n",
       "    <tr>\n",
       "      <th>255</th>\n",
       "      <td>30.0</td>\n",
       "      <td>1</td>\n",
       "      <td>1140</td>\n",
       "      <td>0</td>\n",
       "      <td>2</td>\n",
       "      <td>3</td>\n",
       "      <td>8.0</td>\n",
       "      <td>8.0</td>\n",
       "      <td>8.0</td>\n",
       "      <td>9.0</td>\n",
       "      <td>...</td>\n",
       "      <td>9.77</td>\n",
       "      <td>0.173067</td>\n",
       "      <td>0.000</td>\n",
       "      <td>0.477</td>\n",
       "      <td>100.733333</td>\n",
       "      <td>0.0</td>\n",
       "      <td>356.0</td>\n",
       "      <td>0.506667</td>\n",
       "      <td>0.0</td>\n",
       "      <td>1.7</td>\n",
       "    </tr>\n",
       "    <tr>\n",
       "      <th>72</th>\n",
       "      <td>25.1</td>\n",
       "      <td>2</td>\n",
       "      <td>800</td>\n",
       "      <td>1</td>\n",
       "      <td>2</td>\n",
       "      <td>1</td>\n",
       "      <td>8.0</td>\n",
       "      <td>8.0</td>\n",
       "      <td>8.0</td>\n",
       "      <td>8.0</td>\n",
       "      <td>...</td>\n",
       "      <td>16.81</td>\n",
       "      <td>0.223556</td>\n",
       "      <td>0.000</td>\n",
       "      <td>0.421</td>\n",
       "      <td>176.666667</td>\n",
       "      <td>0.0</td>\n",
       "      <td>324.0</td>\n",
       "      <td>0.022222</td>\n",
       "      <td>0.0</td>\n",
       "      <td>0.1</td>\n",
       "    </tr>\n",
       "    <tr>\n",
       "      <th>235</th>\n",
       "      <td>28.5</td>\n",
       "      <td>1</td>\n",
       "      <td>1030</td>\n",
       "      <td>0</td>\n",
       "      <td>2</td>\n",
       "      <td>3</td>\n",
       "      <td>7.0</td>\n",
       "      <td>7.0</td>\n",
       "      <td>7.0</td>\n",
       "      <td>7.0</td>\n",
       "      <td>...</td>\n",
       "      <td>11.39</td>\n",
       "      <td>0.069385</td>\n",
       "      <td>0.000</td>\n",
       "      <td>0.451</td>\n",
       "      <td>19.846154</td>\n",
       "      <td>0.0</td>\n",
       "      <td>129.0</td>\n",
       "      <td>0.307692</td>\n",
       "      <td>0.0</td>\n",
       "      <td>0.5</td>\n",
       "    </tr>\n",
       "    <tr>\n",
       "      <th>37</th>\n",
       "      <td>23.2</td>\n",
       "      <td>2</td>\n",
       "      <td>470</td>\n",
       "      <td>1</td>\n",
       "      <td>3</td>\n",
       "      <td>2</td>\n",
       "      <td>4.0</td>\n",
       "      <td>4.0</td>\n",
       "      <td>4.0</td>\n",
       "      <td>5.0</td>\n",
       "      <td>...</td>\n",
       "      <td>12.56</td>\n",
       "      <td>0.422000</td>\n",
       "      <td>0.422</td>\n",
       "      <td>0.422</td>\n",
       "      <td>207.000000</td>\n",
       "      <td>207.0</td>\n",
       "      <td>207.0</td>\n",
       "      <td>0.000000</td>\n",
       "      <td>0.0</td>\n",
       "      <td>0.0</td>\n",
       "    </tr>\n",
       "  </tbody>\n",
       "</table>\n",
       "<p>238 rows × 42 columns</p>\n",
       "</div>"
      ],
      "text/plain": [
       "       wg  gender  body_weight  grad_ivh  birth__1_natural_2_caesarean  \\\n",
       "181  25.5       1          790         0                             2   \n",
       "107  28.4       2         1280         1                             2   \n",
       "217  27.5       1          800         0                             2   \n",
       "184  25.2       1          765         0                             3   \n",
       "39   23.3       1          700         1                             3   \n",
       "..    ...     ...          ...       ...                           ...   \n",
       "203  26.4       2          780         0                             2   \n",
       "255  30.0       1         1140         0                             2   \n",
       "72   25.1       2          800         1                             2   \n",
       "235  28.5       1         1030         0                             2   \n",
       "37   23.2       2          470         1                             3   \n",
       "\n",
       "     number_of_children  apgar_1min_mean  apgar_1min_min  apgar_1min_max  \\\n",
       "181                   1              6.0             6.0             6.0   \n",
       "107                   1              7.0             7.0             7.0   \n",
       "217                   1              8.0             8.0             8.0   \n",
       "184                   1              8.0             8.0             8.0   \n",
       "39                    3              0.1             0.1             0.1   \n",
       "..                  ...              ...             ...             ...   \n",
       "203                   1              7.0             7.0             7.0   \n",
       "255                   3              8.0             8.0             8.0   \n",
       "72                    1              8.0             8.0             8.0   \n",
       "235                   3              7.0             7.0             7.0   \n",
       "37                    2              4.0             4.0             4.0   \n",
       "\n",
       "     apgar_5min_mean  ...  leukocytes_max  hematocrit_mean  hematocrit_min  \\\n",
       "181              9.0  ...           10.30         0.133250           0.000   \n",
       "107              8.0  ...           22.32         0.237850           0.000   \n",
       "217              9.0  ...           15.34         0.187880           0.000   \n",
       "184              8.0  ...           18.76         0.109364           0.000   \n",
       "39               3.0  ...           25.28         0.431667           0.000   \n",
       "..               ...  ...             ...              ...             ...   \n",
       "203              7.0  ...           11.72         0.050650           0.000   \n",
       "255              9.0  ...            9.77         0.173067           0.000   \n",
       "72               8.0  ...           16.81         0.223556           0.000   \n",
       "235              7.0  ...           11.39         0.069385           0.000   \n",
       "37               5.0  ...           12.56         0.422000           0.422   \n",
       "\n",
       "     hematocrit_max  thrombocytes_mean  thrombocytes_min  thrombocytes_max  \\\n",
       "181           0.522          73.500000               0.0             292.0   \n",
       "107           0.520          38.250000               0.0             301.0   \n",
       "217           0.545          58.560000               0.0             158.0   \n",
       "184           0.538          56.500000               0.0             298.0   \n",
       "39            0.552         168.166667               0.0             207.0   \n",
       "..              ...                ...               ...               ...   \n",
       "203           0.509          24.650000               0.0             263.0   \n",
       "255           0.477         100.733333               0.0             356.0   \n",
       "72            0.421         176.666667               0.0             324.0   \n",
       "235           0.451          19.846154               0.0             129.0   \n",
       "37            0.422         207.000000             207.0             207.0   \n",
       "\n",
       "     crp_mean  crp_min  crp_max  \n",
       "181  0.266667      0.0      1.2  \n",
       "107  3.430000      0.0     13.2  \n",
       "217  1.228000      0.0      5.5  \n",
       "184  0.386364      0.0      0.5  \n",
       "39   0.250000      0.0      0.5  \n",
       "..        ...      ...      ...  \n",
       "203  0.425000      0.0      0.5  \n",
       "255  0.506667      0.0      1.7  \n",
       "72   0.022222      0.0      0.1  \n",
       "235  0.307692      0.0      0.5  \n",
       "37   0.000000      0.0      0.0  \n",
       "\n",
       "[238 rows x 42 columns]"
      ]
     },
     "execution_count": 875,
     "metadata": {},
     "output_type": "execute_result"
    }
   ],
   "source": [
    "df_full_train"
   ]
  },
  {
   "cell_type": "code",
   "execution_count": 876,
   "id": "8df2a503",
   "metadata": {},
   "outputs": [],
   "source": [
    "from sklearn.metrics import mutual_info_score"
   ]
  },
  {
   "cell_type": "code",
   "execution_count": 877,
   "id": "24e06b21",
   "metadata": {},
   "outputs": [],
   "source": [
    "def mutual_info_churn_score(series):\n",
    "    return mutual_info_score(series, df_full_train.grad_ivh)"
   ]
  },
  {
   "cell_type": "code",
   "execution_count": 878,
   "id": "859aa0bf",
   "metadata": {},
   "outputs": [
    {
     "data": {
      "text/html": [
       "<div>\n",
       "<style scoped>\n",
       "    .dataframe tbody tr th:only-of-type {\n",
       "        vertical-align: middle;\n",
       "    }\n",
       "\n",
       "    .dataframe tbody tr th {\n",
       "        vertical-align: top;\n",
       "    }\n",
       "\n",
       "    .dataframe thead th {\n",
       "        text-align: right;\n",
       "    }\n",
       "</style>\n",
       "<table border=\"1\" class=\"dataframe\">\n",
       "  <thead>\n",
       "    <tr style=\"text-align: right;\">\n",
       "      <th></th>\n",
       "      <th>wg</th>\n",
       "      <th>gender</th>\n",
       "      <th>body_weight</th>\n",
       "      <th>grad_ivh</th>\n",
       "      <th>birth__1_natural_2_caesarean</th>\n",
       "      <th>number_of_children</th>\n",
       "      <th>apgar_1min_mean</th>\n",
       "      <th>apgar_1min_min</th>\n",
       "      <th>apgar_1min_max</th>\n",
       "      <th>apgar_5min_mean</th>\n",
       "      <th>...</th>\n",
       "      <th>leukocytes_max</th>\n",
       "      <th>hematocrit_mean</th>\n",
       "      <th>hematocrit_min</th>\n",
       "      <th>hematocrit_max</th>\n",
       "      <th>thrombocytes_mean</th>\n",
       "      <th>thrombocytes_min</th>\n",
       "      <th>thrombocytes_max</th>\n",
       "      <th>crp_mean</th>\n",
       "      <th>crp_min</th>\n",
       "      <th>crp_max</th>\n",
       "    </tr>\n",
       "  </thead>\n",
       "  <tbody>\n",
       "    <tr>\n",
       "      <th>181</th>\n",
       "      <td>25.5</td>\n",
       "      <td>1</td>\n",
       "      <td>790</td>\n",
       "      <td>0</td>\n",
       "      <td>2</td>\n",
       "      <td>1</td>\n",
       "      <td>6.0</td>\n",
       "      <td>6.0</td>\n",
       "      <td>6.0</td>\n",
       "      <td>9.0</td>\n",
       "      <td>...</td>\n",
       "      <td>10.30</td>\n",
       "      <td>0.133250</td>\n",
       "      <td>0.000</td>\n",
       "      <td>0.522</td>\n",
       "      <td>73.500000</td>\n",
       "      <td>0.0</td>\n",
       "      <td>292.0</td>\n",
       "      <td>0.266667</td>\n",
       "      <td>0.0</td>\n",
       "      <td>1.2</td>\n",
       "    </tr>\n",
       "    <tr>\n",
       "      <th>107</th>\n",
       "      <td>28.4</td>\n",
       "      <td>2</td>\n",
       "      <td>1280</td>\n",
       "      <td>1</td>\n",
       "      <td>2</td>\n",
       "      <td>1</td>\n",
       "      <td>7.0</td>\n",
       "      <td>7.0</td>\n",
       "      <td>7.0</td>\n",
       "      <td>8.0</td>\n",
       "      <td>...</td>\n",
       "      <td>22.32</td>\n",
       "      <td>0.237850</td>\n",
       "      <td>0.000</td>\n",
       "      <td>0.520</td>\n",
       "      <td>38.250000</td>\n",
       "      <td>0.0</td>\n",
       "      <td>301.0</td>\n",
       "      <td>3.430000</td>\n",
       "      <td>0.0</td>\n",
       "      <td>13.2</td>\n",
       "    </tr>\n",
       "    <tr>\n",
       "      <th>217</th>\n",
       "      <td>27.5</td>\n",
       "      <td>1</td>\n",
       "      <td>800</td>\n",
       "      <td>0</td>\n",
       "      <td>2</td>\n",
       "      <td>1</td>\n",
       "      <td>8.0</td>\n",
       "      <td>8.0</td>\n",
       "      <td>8.0</td>\n",
       "      <td>9.0</td>\n",
       "      <td>...</td>\n",
       "      <td>15.34</td>\n",
       "      <td>0.187880</td>\n",
       "      <td>0.000</td>\n",
       "      <td>0.545</td>\n",
       "      <td>58.560000</td>\n",
       "      <td>0.0</td>\n",
       "      <td>158.0</td>\n",
       "      <td>1.228000</td>\n",
       "      <td>0.0</td>\n",
       "      <td>5.5</td>\n",
       "    </tr>\n",
       "    <tr>\n",
       "      <th>184</th>\n",
       "      <td>25.2</td>\n",
       "      <td>1</td>\n",
       "      <td>765</td>\n",
       "      <td>0</td>\n",
       "      <td>3</td>\n",
       "      <td>1</td>\n",
       "      <td>8.0</td>\n",
       "      <td>8.0</td>\n",
       "      <td>8.0</td>\n",
       "      <td>8.0</td>\n",
       "      <td>...</td>\n",
       "      <td>18.76</td>\n",
       "      <td>0.109364</td>\n",
       "      <td>0.000</td>\n",
       "      <td>0.538</td>\n",
       "      <td>56.500000</td>\n",
       "      <td>0.0</td>\n",
       "      <td>298.0</td>\n",
       "      <td>0.386364</td>\n",
       "      <td>0.0</td>\n",
       "      <td>0.5</td>\n",
       "    </tr>\n",
       "    <tr>\n",
       "      <th>39</th>\n",
       "      <td>23.3</td>\n",
       "      <td>1</td>\n",
       "      <td>700</td>\n",
       "      <td>1</td>\n",
       "      <td>3</td>\n",
       "      <td>3</td>\n",
       "      <td>0.1</td>\n",
       "      <td>0.1</td>\n",
       "      <td>0.1</td>\n",
       "      <td>3.0</td>\n",
       "      <td>...</td>\n",
       "      <td>25.28</td>\n",
       "      <td>0.431667</td>\n",
       "      <td>0.000</td>\n",
       "      <td>0.552</td>\n",
       "      <td>168.166667</td>\n",
       "      <td>0.0</td>\n",
       "      <td>207.0</td>\n",
       "      <td>0.250000</td>\n",
       "      <td>0.0</td>\n",
       "      <td>0.5</td>\n",
       "    </tr>\n",
       "    <tr>\n",
       "      <th>...</th>\n",
       "      <td>...</td>\n",
       "      <td>...</td>\n",
       "      <td>...</td>\n",
       "      <td>...</td>\n",
       "      <td>...</td>\n",
       "      <td>...</td>\n",
       "      <td>...</td>\n",
       "      <td>...</td>\n",
       "      <td>...</td>\n",
       "      <td>...</td>\n",
       "      <td>...</td>\n",
       "      <td>...</td>\n",
       "      <td>...</td>\n",
       "      <td>...</td>\n",
       "      <td>...</td>\n",
       "      <td>...</td>\n",
       "      <td>...</td>\n",
       "      <td>...</td>\n",
       "      <td>...</td>\n",
       "      <td>...</td>\n",
       "      <td>...</td>\n",
       "    </tr>\n",
       "    <tr>\n",
       "      <th>203</th>\n",
       "      <td>26.4</td>\n",
       "      <td>2</td>\n",
       "      <td>780</td>\n",
       "      <td>0</td>\n",
       "      <td>2</td>\n",
       "      <td>1</td>\n",
       "      <td>7.0</td>\n",
       "      <td>7.0</td>\n",
       "      <td>7.0</td>\n",
       "      <td>7.0</td>\n",
       "      <td>...</td>\n",
       "      <td>11.72</td>\n",
       "      <td>0.050650</td>\n",
       "      <td>0.000</td>\n",
       "      <td>0.509</td>\n",
       "      <td>24.650000</td>\n",
       "      <td>0.0</td>\n",
       "      <td>263.0</td>\n",
       "      <td>0.425000</td>\n",
       "      <td>0.0</td>\n",
       "      <td>0.5</td>\n",
       "    </tr>\n",
       "    <tr>\n",
       "      <th>255</th>\n",
       "      <td>30.0</td>\n",
       "      <td>1</td>\n",
       "      <td>1140</td>\n",
       "      <td>0</td>\n",
       "      <td>2</td>\n",
       "      <td>3</td>\n",
       "      <td>8.0</td>\n",
       "      <td>8.0</td>\n",
       "      <td>8.0</td>\n",
       "      <td>9.0</td>\n",
       "      <td>...</td>\n",
       "      <td>9.77</td>\n",
       "      <td>0.173067</td>\n",
       "      <td>0.000</td>\n",
       "      <td>0.477</td>\n",
       "      <td>100.733333</td>\n",
       "      <td>0.0</td>\n",
       "      <td>356.0</td>\n",
       "      <td>0.506667</td>\n",
       "      <td>0.0</td>\n",
       "      <td>1.7</td>\n",
       "    </tr>\n",
       "    <tr>\n",
       "      <th>72</th>\n",
       "      <td>25.1</td>\n",
       "      <td>2</td>\n",
       "      <td>800</td>\n",
       "      <td>1</td>\n",
       "      <td>2</td>\n",
       "      <td>1</td>\n",
       "      <td>8.0</td>\n",
       "      <td>8.0</td>\n",
       "      <td>8.0</td>\n",
       "      <td>8.0</td>\n",
       "      <td>...</td>\n",
       "      <td>16.81</td>\n",
       "      <td>0.223556</td>\n",
       "      <td>0.000</td>\n",
       "      <td>0.421</td>\n",
       "      <td>176.666667</td>\n",
       "      <td>0.0</td>\n",
       "      <td>324.0</td>\n",
       "      <td>0.022222</td>\n",
       "      <td>0.0</td>\n",
       "      <td>0.1</td>\n",
       "    </tr>\n",
       "    <tr>\n",
       "      <th>235</th>\n",
       "      <td>28.5</td>\n",
       "      <td>1</td>\n",
       "      <td>1030</td>\n",
       "      <td>0</td>\n",
       "      <td>2</td>\n",
       "      <td>3</td>\n",
       "      <td>7.0</td>\n",
       "      <td>7.0</td>\n",
       "      <td>7.0</td>\n",
       "      <td>7.0</td>\n",
       "      <td>...</td>\n",
       "      <td>11.39</td>\n",
       "      <td>0.069385</td>\n",
       "      <td>0.000</td>\n",
       "      <td>0.451</td>\n",
       "      <td>19.846154</td>\n",
       "      <td>0.0</td>\n",
       "      <td>129.0</td>\n",
       "      <td>0.307692</td>\n",
       "      <td>0.0</td>\n",
       "      <td>0.5</td>\n",
       "    </tr>\n",
       "    <tr>\n",
       "      <th>37</th>\n",
       "      <td>23.2</td>\n",
       "      <td>2</td>\n",
       "      <td>470</td>\n",
       "      <td>1</td>\n",
       "      <td>3</td>\n",
       "      <td>2</td>\n",
       "      <td>4.0</td>\n",
       "      <td>4.0</td>\n",
       "      <td>4.0</td>\n",
       "      <td>5.0</td>\n",
       "      <td>...</td>\n",
       "      <td>12.56</td>\n",
       "      <td>0.422000</td>\n",
       "      <td>0.422</td>\n",
       "      <td>0.422</td>\n",
       "      <td>207.000000</td>\n",
       "      <td>207.0</td>\n",
       "      <td>207.0</td>\n",
       "      <td>0.000000</td>\n",
       "      <td>0.0</td>\n",
       "      <td>0.0</td>\n",
       "    </tr>\n",
       "  </tbody>\n",
       "</table>\n",
       "<p>238 rows × 42 columns</p>\n",
       "</div>"
      ],
      "text/plain": [
       "       wg  gender  body_weight  grad_ivh  birth__1_natural_2_caesarean  \\\n",
       "181  25.5       1          790         0                             2   \n",
       "107  28.4       2         1280         1                             2   \n",
       "217  27.5       1          800         0                             2   \n",
       "184  25.2       1          765         0                             3   \n",
       "39   23.3       1          700         1                             3   \n",
       "..    ...     ...          ...       ...                           ...   \n",
       "203  26.4       2          780         0                             2   \n",
       "255  30.0       1         1140         0                             2   \n",
       "72   25.1       2          800         1                             2   \n",
       "235  28.5       1         1030         0                             2   \n",
       "37   23.2       2          470         1                             3   \n",
       "\n",
       "     number_of_children  apgar_1min_mean  apgar_1min_min  apgar_1min_max  \\\n",
       "181                   1              6.0             6.0             6.0   \n",
       "107                   1              7.0             7.0             7.0   \n",
       "217                   1              8.0             8.0             8.0   \n",
       "184                   1              8.0             8.0             8.0   \n",
       "39                    3              0.1             0.1             0.1   \n",
       "..                  ...              ...             ...             ...   \n",
       "203                   1              7.0             7.0             7.0   \n",
       "255                   3              8.0             8.0             8.0   \n",
       "72                    1              8.0             8.0             8.0   \n",
       "235                   3              7.0             7.0             7.0   \n",
       "37                    2              4.0             4.0             4.0   \n",
       "\n",
       "     apgar_5min_mean  ...  leukocytes_max  hematocrit_mean  hematocrit_min  \\\n",
       "181              9.0  ...           10.30         0.133250           0.000   \n",
       "107              8.0  ...           22.32         0.237850           0.000   \n",
       "217              9.0  ...           15.34         0.187880           0.000   \n",
       "184              8.0  ...           18.76         0.109364           0.000   \n",
       "39               3.0  ...           25.28         0.431667           0.000   \n",
       "..               ...  ...             ...              ...             ...   \n",
       "203              7.0  ...           11.72         0.050650           0.000   \n",
       "255              9.0  ...            9.77         0.173067           0.000   \n",
       "72               8.0  ...           16.81         0.223556           0.000   \n",
       "235              7.0  ...           11.39         0.069385           0.000   \n",
       "37               5.0  ...           12.56         0.422000           0.422   \n",
       "\n",
       "     hematocrit_max  thrombocytes_mean  thrombocytes_min  thrombocytes_max  \\\n",
       "181           0.522          73.500000               0.0             292.0   \n",
       "107           0.520          38.250000               0.0             301.0   \n",
       "217           0.545          58.560000               0.0             158.0   \n",
       "184           0.538          56.500000               0.0             298.0   \n",
       "39            0.552         168.166667               0.0             207.0   \n",
       "..              ...                ...               ...               ...   \n",
       "203           0.509          24.650000               0.0             263.0   \n",
       "255           0.477         100.733333               0.0             356.0   \n",
       "72            0.421         176.666667               0.0             324.0   \n",
       "235           0.451          19.846154               0.0             129.0   \n",
       "37            0.422         207.000000             207.0             207.0   \n",
       "\n",
       "     crp_mean  crp_min  crp_max  \n",
       "181  0.266667      0.0      1.2  \n",
       "107  3.430000      0.0     13.2  \n",
       "217  1.228000      0.0      5.5  \n",
       "184  0.386364      0.0      0.5  \n",
       "39   0.250000      0.0      0.5  \n",
       "..        ...      ...      ...  \n",
       "203  0.425000      0.0      0.5  \n",
       "255  0.506667      0.0      1.7  \n",
       "72   0.022222      0.0      0.1  \n",
       "235  0.307692      0.0      0.5  \n",
       "37   0.000000      0.0      0.0  \n",
       "\n",
       "[238 rows x 42 columns]"
      ]
     },
     "execution_count": 878,
     "metadata": {},
     "output_type": "execute_result"
    }
   ],
   "source": [
    "#mi = df_full_train[col_no_agg].apply(mutual_info_churn_score)\n",
    "#mi.sort_values(ascending=False)\n",
    "df_full_train"
   ]
  },
  {
   "cell_type": "code",
   "execution_count": 879,
   "id": "b9552c3c",
   "metadata": {},
   "outputs": [
    {
     "data": {
      "text/plain": [
       "wg                             -0.247553\n",
       "gender                         -0.077807\n",
       "body_weight                    -0.136564\n",
       "grad_ivh                        1.000000\n",
       "birth__1_natural_2_caesarean    0.022711\n",
       "number_of_children              0.003946\n",
       "apgar_1min_mean                -0.261710\n",
       "apgar_1min_min                 -0.261710\n",
       "apgar_1min_max                 -0.261710\n",
       "apgar_5min_mean                -0.244226\n",
       "apgar_5min_min                 -0.244226\n",
       "apgar_5min_max                 -0.244226\n",
       "apgar_10min_mean               -0.233544\n",
       "apgar_10min_min                -0.233544\n",
       "apgar_10min_max                -0.233544\n",
       "ph_mean                        -0.078071\n",
       "ph_min                          0.086394\n",
       "ph_max                         -0.187408\n",
       "pco2_mean                       0.057236\n",
       "pco2_min                        0.137559\n",
       "pco2_max                       -0.009474\n",
       "po2_mean                        0.036251\n",
       "po2_min                         0.162998\n",
       "po2_max                        -0.076608\n",
       "sao2_mean                      -0.244425\n",
       "sao2_min                        0.063908\n",
       "sao2_max                       -0.297614\n",
       "map_mean                       -0.011213\n",
       "map_min                         0.232135\n",
       "map_max                        -0.487307\n",
       "leukocytes_mean                 0.122033\n",
       "leukocytes_min                  0.286812\n",
       "leukocytes_max                 -0.158294\n",
       "hematocrit_mean                 0.278317\n",
       "hematocrit_min                  0.344361\n",
       "hematocrit_max                 -0.281506\n",
       "thrombocytes_mean               0.205500\n",
       "thrombocytes_min                0.342014\n",
       "thrombocytes_max               -0.366445\n",
       "crp_mean                        0.021379\n",
       "crp_min                         0.090134\n",
       "crp_max                         0.084651\n",
       "dtype: float64"
      ]
     },
     "execution_count": 879,
     "metadata": {},
     "output_type": "execute_result"
    }
   ],
   "source": [
    "df_full_train.corrwith(df_full_train.grad_ivh)"
   ]
  },
  {
   "cell_type": "markdown",
   "id": "053381b8",
   "metadata": {},
   "source": [
    "### Dict vectorizer"
   ]
  },
  {
   "cell_type": "code",
   "execution_count": 880,
   "id": "3db707fd",
   "metadata": {},
   "outputs": [],
   "source": [
    "from sklearn.feature_extraction import DictVectorizer"
   ]
  },
  {
   "cell_type": "code",
   "execution_count": 881,
   "id": "580ebbed",
   "metadata": {},
   "outputs": [],
   "source": [
    "train_dicts = df_train.to_dict(orient='records')\n",
    "dv = DictVectorizer(sparse = False)\n",
    "X_train = dv.fit_transform(train_dicts)"
   ]
  },
  {
   "cell_type": "code",
   "execution_count": 882,
   "id": "20e06887",
   "metadata": {},
   "outputs": [],
   "source": [
    "val_dicts = df_val.to_dict(orient='records')\n",
    "X_val  = dv.transform(val_dicts)"
   ]
  },
  {
   "cell_type": "markdown",
   "id": "ecfcef18",
   "metadata": {},
   "source": [
    "## Model training & Evaluation"
   ]
  },
  {
   "cell_type": "markdown",
   "id": "274beb8b",
   "metadata": {},
   "source": [
    "### Logistic Regression"
   ]
  },
  {
   "cell_type": "code",
   "execution_count": 1021,
   "id": "614299a3",
   "metadata": {},
   "outputs": [],
   "source": [
    "from sklearn.linear_model import LogisticRegression\n",
    "from sklearn.metrics import confusion_matrix, roc_curve, f1_score, roc_auc_score"
   ]
  },
  {
   "cell_type": "code",
   "execution_count": 1020,
   "id": "4c31598e",
   "metadata": {},
   "outputs": [
    {
     "name": "stderr",
     "output_type": "stream",
     "text": [
      "c:\\Users\\hohih\\ivh\\.venv\\Lib\\site-packages\\sklearn\\linear_model\\_logistic.py:469: ConvergenceWarning: lbfgs failed to converge (status=1):\n",
      "STOP: TOTAL NO. of ITERATIONS REACHED LIMIT.\n",
      "\n",
      "Increase the number of iterations (max_iter) or scale the data as shown in:\n",
      "    https://scikit-learn.org/stable/modules/preprocessing.html\n",
      "Please also refer to the documentation for alternative solver options:\n",
      "    https://scikit-learn.org/stable/modules/linear_model.html#logistic-regression\n",
      "  n_iter_i = _check_optimize_result(\n"
     ]
    },
    {
     "data": {
      "text/plain": [
       "0.8876529477196886"
      ]
     },
     "execution_count": 1020,
     "metadata": {},
     "output_type": "execute_result"
    }
   ],
   "source": [
    "model = LogisticRegression()\n",
    "model.fit(X_train, y_train)\n",
    "y_pred = model.predict_proba(X_val)[:,1]\n",
    "auc = roc_auc_score(y_val, y_pred)\n",
    "auc"
   ]
  },
  {
   "cell_type": "markdown",
   "id": "dfae0894",
   "metadata": {},
   "source": [
    "### Evaluation"
   ]
  },
  {
   "cell_type": "code",
   "execution_count": 887,
   "id": "02224af4",
   "metadata": {},
   "outputs": [
    {
     "data": {
      "text/plain": [
       "0.8876529477196886"
      ]
     },
     "execution_count": 887,
     "metadata": {},
     "output_type": "execute_result"
    }
   ],
   "source": [
    "auc"
   ]
  },
  {
   "cell_type": "code",
   "execution_count": 1031,
   "id": "91fa1a31",
   "metadata": {},
   "outputs": [
    {
     "name": "stdout",
     "output_type": "stream",
     "text": [
      "Accuracy 0.8333333333333334 f1 score 0.8076923076923077\n",
      "confusion matrix \n",
      " [[29  2]\n",
      " [ 8 21]]\n",
      "confusion matrix in percentage \n",
      " [[0.483 0.033]\n",
      " [0.133 0.35 ]]\n"
     ]
    }
   ],
   "source": [
    "accuracy = (y_val == (y_pred>0.5).astype('int')).mean()\n",
    "f1 = f1_score(y_val, (y_pred>0.5).astype('int'))\n",
    "a = confusion_matrix(y_val, y_pred>=0.5)\n",
    "print('Accuracy', accuracy, 'f1 score', f1)\n",
    "print('confusion matrix', '\\n', a)\n",
    "print('confusion matrix in percentage', '\\n', (a/a.sum()).round(3))\n",
    "\n"
   ]
  },
  {
   "cell_type": "code",
   "execution_count": 1024,
   "id": "e29c9b8b",
   "metadata": {},
   "outputs": [
    {
     "data": {
      "text/plain": [
       "[<matplotlib.lines.Line2D at 0x1adc793cad0>]"
      ]
     },
     "execution_count": 1024,
     "metadata": {},
     "output_type": "execute_result"
    },
    {
     "data": {
      "image/png": "[encoded data removed]",
      "text/plain": [
       "<Figure size 640x480 with 1 Axes>"
      ]
     },
     "metadata": {},
     "output_type": "display_data"
    }
   ],
   "source": [
    "# Find the right decision threshold\n",
    "threshold = np.linspace(0,1,21) # first last, size#\n",
    "scores = []\n",
    "for t in threshold:\n",
    "    churn_decision = (y_pred>= t)\n",
    "    score = (y_val == churn_decision).mean()\n",
    "    #print('for threshold', t, 'score', score)\n",
    "    #print('%.2f %.3f' % (t, score))\n",
    "    scores.append(score)\n",
    "plt.plot(threshold, scores)"
   ]
  },
  {
   "cell_type": "code",
   "execution_count": 1025,
   "id": "71b59ab9",
   "metadata": {},
   "outputs": [
    {
     "data": {
      "text/plain": [
       "{'apgar_10min_max': 0.009,\n",
       " 'apgar_10min_mean': 0.009,\n",
       " 'apgar_10min_min': 0.009,\n",
       " 'apgar_1min_max': -0.007,\n",
       " 'apgar_1min_mean': -0.007,\n",
       " 'apgar_1min_min': -0.007,\n",
       " 'apgar_5min_max': 0.012,\n",
       " 'apgar_5min_mean': 0.012,\n",
       " 'apgar_5min_min': 0.012,\n",
       " 'birth__1_natural_2_caesarean': 0.004,\n",
       " 'body_weight': -0.0,\n",
       " 'crp_max': 0.047,\n",
       " 'crp_mean': 0.008,\n",
       " 'crp_min': 0.001,\n",
       " 'gender': 0.0,\n",
       " 'hematocrit_max': -0.002,\n",
       " 'hematocrit_mean': 0.0,\n",
       " 'hematocrit_min': -0.0,\n",
       " 'leukocytes_max': -0.014,\n",
       " 'leukocytes_mean': 0.034,\n",
       " 'leukocytes_min': 0.0,\n",
       " 'map_max': -0.109,\n",
       " 'map_mean': 0.078,\n",
       " 'map_min': 0.009,\n",
       " 'number_of_children': -0.002,\n",
       " 'pco2_max': 0.001,\n",
       " 'pco2_mean': 0.074,\n",
       " 'pco2_min': -0.052,\n",
       " 'ph_max': 0.008,\n",
       " 'ph_mean': 0.011,\n",
       " 'ph_min': -0.011,\n",
       " 'po2_max': -0.02,\n",
       " 'po2_mean': 0.06,\n",
       " 'po2_min': 0.034,\n",
       " 'sao2_max': 0.004,\n",
       " 'sao2_mean': -0.013,\n",
       " 'sao2_min': 0.003,\n",
       " 'thrombocytes_max': -0.006,\n",
       " 'thrombocytes_mean': 0.0,\n",
       " 'thrombocytes_min': 0.027,\n",
       " 'wg': 0.01}"
      ]
     },
     "execution_count": 1025,
     "metadata": {},
     "output_type": "execute_result"
    }
   ],
   "source": [
    "# feature importance \n",
    "dict(zip(dv.get_feature_names_out(), model.coef_[0].round(3)))"
   ]
  },
  {
   "cell_type": "code",
   "execution_count": 1033,
   "id": "6ad3722f",
   "metadata": {},
   "outputs": [
    {
     "data": {
      "text/plain": [
       "<matplotlib.legend.Legend at 0x1adc770c450>"
      ]
     },
     "execution_count": 1033,
     "metadata": {},
     "output_type": "execute_result"
    },
    {
     "data": {
      "image/png": "[encoded data removed]",
      "text/plain": [
       "<Figure size 500x500 with 1 Axes>"
      ]
     },
     "metadata": {},
     "output_type": "display_data"
    }
   ],
   "source": [
    "#ROC curve\n",
    "fpr, tpr, thresholds = roc_curve(y_val, y_pred)\n",
    "plt.figure(figsize=(5,5))\n",
    "\n",
    "plt.plot(fpr, tpr, label ='model')\n",
    "plt.plot([0, 1], [0,1], label ='random', linestyle='--')\n",
    "\n",
    "plt.xlabel('FPR')\n",
    "plt.ylabel('TPR')\n",
    "plt.legend()"
   ]
  },
  {
   "cell_type": "markdown",
   "id": "b1c2ef6c",
   "metadata": {},
   "source": [
    "### Reduction of features"
   ]
  },
  {
   "cell_type": "code",
   "execution_count": 1053,
   "id": "8749f9ef",
   "metadata": {},
   "outputs": [],
   "source": [
    "from sklearn.preprocessing import StandardScaler\n",
    "from sklearn.pipeline import make_pipeline\n",
    "from sklearn.metrics import classification_report, roc_auc_score"
   ]
  },
  {
   "cell_type": "code",
   "execution_count": 1054,
   "id": "920c3f33",
   "metadata": {},
   "outputs": [
    {
     "name": "stdout",
     "output_type": "stream",
     "text": [
      "              precision    recall  f1-score   support\n",
      "\n",
      "           0       0.54      1.00      0.70        31\n",
      "           1       1.00      0.10      0.19        29\n",
      "\n",
      "    accuracy                           0.57        60\n",
      "   macro avg       0.77      0.55      0.45        60\n",
      "weighted avg       0.76      0.57      0.45        60\n",
      "\n",
      "Validation AUC:  0.903225806451613\n"
     ]
    }
   ],
   "source": [
    "# Standardize features to ensure regularization is effective\n",
    "scaler = StandardScaler()\n",
    "X_train_scaled = scaler.fit_transform(X_train)\n",
    "# L1 Regularized Logistic Regression (Lasso)\n",
    "lasso = LogisticRegression(penalty='l1', solver='liblinear', C=0.1)  # C controls regularization strength (smaller C = stronger regularization)\n",
    "\n",
    "# Fit model on training data\n",
    "lasso.fit(X_train_scaled, y_train)\n",
    "\n",
    "# Get the coefficients\n",
    "coefficients = lasso.coef_.ravel()\n",
    "\n",
    "selected_indices = np.where(coefficients != 0)[0]\n",
    "X_train_reduced = X_train[:, selected_indices]\n",
    "X_val_reduced = X_val[:, selected_indices]\n",
    "X_full_train_reduced = X_train[:, selected_indices]\n",
    "\n",
    "# Retrain with reduced feature set and L2 regularization\n",
    "logistic = LogisticRegression(penalty='l2', solver='liblinear', C=1)  # L2 regularization\n",
    "logistic.fit(scaler.fit_transform(X_train_reduced), y_train)\n",
    "\n",
    "# Predictions and evaluation on the validation set\n",
    "y_val_pred = logistic.predict(X_val_reduced)\n",
    "y_val_prob = logistic.predict_proba(X_val_reduced)[:, 1]\n",
    "\n",
    "# Classification report and AUC score\n",
    "print(classification_report(y_val, y_val_pred))\n",
    "print(\"Validation AUC: \", roc_auc_score(y_val, y_val_prob))"
   ]
  },
  {
   "cell_type": "code",
   "execution_count": 1055,
   "id": "06b90eb4",
   "metadata": {},
   "outputs": [
    {
     "name": "stdout",
     "output_type": "stream",
     "text": [
      "Cross-validated AUC:  0.8459801587301587\n"
     ]
    }
   ],
   "source": [
    "from sklearn.model_selection import cross_val_score\n",
    "\n",
    "# Cross-validation with the reduced feature set\n",
    "scores = cross_val_score(logistic, X_train_reduced, y_train, cv=5, scoring='roc_auc')\n",
    "print(\"Cross-validated AUC: \", scores.mean())"
   ]
  },
  {
   "cell_type": "markdown",
   "id": "6bfd71c7",
   "metadata": {},
   "source": [
    "#### Alternative recursive feature elimination"
   ]
  },
  {
   "cell_type": "code",
   "execution_count": 1056,
   "id": "d0c9b2d8",
   "metadata": {},
   "outputs": [
    {
     "name": "stdout",
     "output_type": "stream",
     "text": [
      "Validation AUC (RFE):  0.8298109010011123\n"
     ]
    }
   ],
   "source": [
    "from sklearn.feature_selection import RFE\n",
    "from sklearn.linear_model import LogisticRegression\n",
    "\n",
    "# Create logistic regression model\n",
    "log_reg = LogisticRegression(penalty='l2', solver='liblinear')\n",
    "\n",
    "# Initialize RFE to reduce features down to a desired number (e.g., 15)\n",
    "rfe = RFE(log_reg, n_features_to_select=27) # could have been 15\n",
    "rfe.fit(X_train, y_train)\n",
    "\n",
    "# Select the best features (this will return a mask for selected features)\n",
    "selected_indices_rfe = np.where(rfe.support_)[0]  # Indices of selected features\n",
    "\n",
    "# Reduce X_train and X_val to selected features\n",
    "X_train_rfe = X_train[:, selected_indices_rfe]\n",
    "X_val_rfe = X_val[:, selected_indices_rfe]\n",
    "\n",
    "# Retrain with reduced feature set\n",
    "log_reg.fit(X_train_rfe, y_train)\n",
    "\n",
    "# Evaluate the model on the validation set\n",
    "y_val_pred_rfe = log_reg.predict(X_val_rfe)\n",
    "y_val_prob_rfe = log_reg.predict_proba(X_val_rfe)[:, 1]\n",
    "\n",
    "# AUC score\n",
    "print(\"Validation AUC (RFE): \", roc_auc_score(y_val, y_val_prob_rfe))\n"
   ]
  },
  {
   "cell_type": "code",
   "execution_count": 1057,
   "id": "962fae11",
   "metadata": {},
   "outputs": [
    {
     "name": "stdout",
     "output_type": "stream",
     "text": [
      "Cross-validated AUC:  0.8092619047619047\n"
     ]
    }
   ],
   "source": [
    "from sklearn.model_selection import cross_val_score\n",
    "\n",
    "# Cross-validation with the reduced feature set\n",
    "scores = cross_val_score(log_reg, X_train_rfe, y_train, cv=5, scoring='roc_auc')\n",
    "print(\"Cross-validated AUC: \", scores.mean())\n",
    "\n"
   ]
  },
  {
   "cell_type": "markdown",
   "id": "5ef16ca3",
   "metadata": {},
   "source": [
    "### Bootstrapping for better model evaluation"
   ]
  },
  {
   "cell_type": "code",
   "execution_count": 1039,
   "id": "58ca09b2",
   "metadata": {},
   "outputs": [
    {
     "name": "stdout",
     "output_type": "stream",
     "text": [
      "Mean AUC: 0.8605050055617351\n",
      "95% Confidence Interval for AUC: [0.8186874304783093, 0.8998887652947719]\n"
     ]
    }
   ],
   "source": [
    "from sklearn.utils import resample\n",
    "\n",
    "# Number of bootstrap iterations\n",
    "n_iterations = 1000\n",
    "auc_scores = []\n",
    "\n",
    "# Perform bootstrapping\n",
    "for i in range(n_iterations):\n",
    "    # Resample the training data with replacement\n",
    "    X_train_bootstrap, y_train_bootstrap = resample(X_train_reduced, y_train)\n",
    "    \n",
    "    # Train model on bootstrap sample\n",
    "    logistic.fit(X_train_bootstrap, y_train_bootstrap)\n",
    "    \n",
    "    # Predict on validation set\n",
    "    y_val_prob = logistic.predict_proba(X_val_reduced)[:, 1]\n",
    "    \n",
    "    # Calculate AUC\n",
    "    auc = roc_auc_score(y_val, y_val_prob)\n",
    "    auc_scores.append(auc)\n",
    "\n",
    "# Calculate mean AUC and confidence intervals\n",
    "mean_auc = np.mean(auc_scores)\n",
    "lower_bound = np.percentile(auc_scores, 2.5)\n",
    "upper_bound = np.percentile(auc_scores, 97.5)\n",
    "\n",
    "print(f\"Mean AUC: {mean_auc}\")\n",
    "print(f\"95% Confidence Interval for AUC: [{lower_bound}, {upper_bound}]\")\n"
   ]
  },
  {
   "cell_type": "markdown",
   "id": "eb573513",
   "metadata": {},
   "source": [
    "### SVM"
   ]
  },
  {
   "cell_type": "code",
   "execution_count": 955,
   "id": "cdc15503",
   "metadata": {},
   "outputs": [
    {
     "name": "stdout",
     "output_type": "stream",
     "text": [
      "SVM AUC: 0.9132369299221357\n"
     ]
    }
   ],
   "source": [
    "from sklearn.svm import SVC\n",
    "from sklearn.metrics import roc_auc_score\n",
    "\n",
    "# Initialize SVM with probability estimation for AUC calculation\n",
    "svm_model = SVC(probability=True)\n",
    "\n",
    "# Train the model\n",
    "svm_model.fit(X_train_reduced, y_train)\n",
    "\n",
    "# Predict probabilities on the validation set\n",
    "y_val_prob_svm = svm_model.predict_proba(X_val_reduced)[:, 1]\n",
    "\n",
    "# Calculate AUC\n",
    "auc_svm = roc_auc_score(y_val, y_val_prob_svm)\n",
    "print(f\"SVM AUC: {auc_svm}\")\n"
   ]
  },
  {
   "cell_type": "code",
   "execution_count": 956,
   "id": "41c52831",
   "metadata": {},
   "outputs": [
    {
     "name": "stdout",
     "output_type": "stream",
     "text": [
      "Mean AUC: 0.9132369299221353\n",
      "95% Confidence Interval for AUC: [0.9132369299221357, 0.9132369299221357]\n"
     ]
    }
   ],
   "source": [
    "# Number of bootstrap iterations\n",
    "n_iterations = 1000\n",
    "auc_scores = []\n",
    "\n",
    "# Perform bootstrapping\n",
    "for i in range(n_iterations):\n",
    "    # Resample the training data with replacement\n",
    "    X_train_bootstrap, y_train_bootstrap = resample(X_train_reduced, y_train)\n",
    "    \n",
    "    svm_model = SVC(probability=True)\n",
    "\n",
    "    # Train the model\n",
    "    svm_model.fit(X_train_reduced, y_train)\n",
    "\n",
    "    # Predict probabilities on the validation set\n",
    "    y_val_prob_svm = svm_model.predict_proba(X_val_reduced)[:, 1]\n",
    "\n",
    "    # Calculate AUC\n",
    "    auc_svm = roc_auc_score(y_val, y_val_prob_svm)\n",
    "    auc_scores.append(auc_svm)\n",
    "\n",
    "# Calculate mean AUC and confidence intervals\n",
    "mean_auc = np.mean(auc_scores)\n",
    "lower_bound = np.percentile(auc_scores, 2.5)\n",
    "upper_bound = np.percentile(auc_scores, 97.5)\n",
    "\n",
    "print(f\"Mean AUC: {mean_auc}\")\n",
    "print(f\"95% Confidence Interval for AUC: [{lower_bound}, {upper_bound}]\")\n"
   ]
  },
  {
   "cell_type": "markdown",
   "id": "aa0615ba",
   "metadata": {},
   "source": [
    "### Random Forest"
   ]
  },
  {
   "cell_type": "code",
   "execution_count": 957,
   "id": "d515cf9e",
   "metadata": {},
   "outputs": [
    {
     "name": "stdout",
     "output_type": "stream",
     "text": [
      "Random Forest AUC: 0.9388209121245829\n"
     ]
    }
   ],
   "source": [
    "from sklearn.ensemble import RandomForestClassifier\n",
    "\n",
    "# Initialize Random Forest\n",
    "rf_model = RandomForestClassifier(n_estimators=100, random_state=42)\n",
    "\n",
    "# Train the model\n",
    "rf_model.fit(X_train_reduced, y_train)\n",
    "\n",
    "# Predict probabilities on the validation set\n",
    "y_val_prob_rf = rf_model.predict_proba(X_val_reduced)[:, 1]\n",
    "\n",
    "# Calculate AUC\n",
    "auc_rf = roc_auc_score(y_val, y_val_prob_rf)\n",
    "print(f\"Random Forest AUC: {auc_rf}\")\n",
    "\n"
   ]
  },
  {
   "cell_type": "code",
   "execution_count": 1041,
   "id": "2f4a7b92",
   "metadata": {},
   "outputs": [
    {
     "data": {
      "text/plain": [
       "[<matplotlib.lines.Line2D at 0x1adc614abd0>]"
      ]
     },
     "execution_count": 1041,
     "metadata": {},
     "output_type": "execute_result"
    },
    {
     "data": {
      "image/png": "[encoded data removed]",
      "text/plain": [
       "<Figure size 640x480 with 1 Axes>"
      ]
     },
     "metadata": {},
     "output_type": "display_data"
    }
   ],
   "source": [
    "threshold = np.linspace(0,1,21) # first last, size#\n",
    "scores = []\n",
    "for t in threshold:\n",
    "    churn_decision = (y_val_prob_rf>= t)\n",
    "    score = (y_val == churn_decision).mean()\n",
    "    #print('for threshold', t, 'score', score)\n",
    "    #print('%.2f %.3f' % (t, score))\n",
    "    scores.append(score)\n",
    "plt.plot(threshold, scores)\n"
   ]
  },
  {
   "cell_type": "code",
   "execution_count": 937,
   "id": "143106a2",
   "metadata": {},
   "outputs": [
    {
     "name": "stdout",
     "output_type": "stream",
     "text": [
      "              precision    recall  f1-score   support\n",
      "\n",
      "           0       0.93      0.87      0.90        31\n",
      "           1       0.87      0.93      0.90        29\n",
      "\n",
      "    accuracy                           0.90        60\n",
      "   macro avg       0.90      0.90      0.90        60\n",
      "weighted avg       0.90      0.90      0.90        60\n",
      "\n",
      "Random Forest AUC: 0.9388209121245829\n"
     ]
    }
   ],
   "source": [
    "print(classification_report(y_val, (y_val_prob_rf>0.33).astype('int')))\n",
    "print(f\"Random Forest AUC: {auc_rf}\")\n"
   ]
  },
  {
   "cell_type": "code",
   "execution_count": 1040,
   "id": "4b10d6f6",
   "metadata": {},
   "outputs": [
    {
     "name": "stdout",
     "output_type": "stream",
     "text": [
      "Mean AUC: 0.9226084538375975\n",
      "95% Confidence Interval for AUC: [0.9045745272525028, 0.9391129032258064]\n"
     ]
    }
   ],
   "source": [
    "# Number of bootstrap iterations\n",
    "n_iterations = 100\n",
    "auc_scores = []\n",
    "\n",
    "# Perform bootstrapping\n",
    "for i in range(n_iterations):\n",
    "    # Resample the training data with replacement\n",
    "    X_train_bootstrap, y_train_bootstrap = resample(X_train_reduced, y_train)\n",
    "    \n",
    "    # Initialize Random Forest\n",
    "    rf_model = RandomForestClassifier(n_estimators=100)\n",
    "\n",
    "    # Train the model\n",
    "    rf_model.fit(X_train_reduced, y_train)\n",
    "\n",
    "    # Predict probabilities on the validation set\n",
    "    y_val_prob_rf = rf_model.predict_proba(X_val_reduced)[:, 1]\n",
    "\n",
    "    # Calculate AUC\n",
    "    auc_rf = roc_auc_score(y_val, y_val_prob_rf)\n",
    "    auc_scores.append(auc_rf)\n",
    "\n",
    "# Calculate mean AUC and confidence intervals\n",
    "mean_auc = np.mean(auc_scores)\n",
    "lower_bound = np.percentile(auc_scores, 2.5)\n",
    "upper_bound = np.percentile(auc_scores, 97.5)\n",
    "\n",
    "print(f\"Mean AUC: {mean_auc}\")\n",
    "print(f\"95% Confidence Interval for AUC: [{lower_bound}, {upper_bound}]\")"
   ]
  },
  {
   "cell_type": "markdown",
   "id": "63bebd20",
   "metadata": {},
   "source": [
    "### XG boost"
   ]
  },
  {
   "cell_type": "code",
   "execution_count": 1042,
   "id": "0eb4e861",
   "metadata": {},
   "outputs": [],
   "source": [
    "def parse_xgb_output(output):\n",
    "    results = []\n",
    "    for line in output.stdout.strip().split('\\n'):\n",
    "        it_line, train_line, val_line = line.split('\\t')\n",
    "        it = int(it_line.strip('[]'))\n",
    "        train = float(train_line.split(':')[1])\n",
    "        val = float(val_line.split(':')[1])\n",
    "\n",
    "        results.append((it,train,val))\n",
    "\n",
    "    columns = ['num_iter', 'train_auc', 'val_auc']\n",
    "    df_results = pd.DataFrame(results, columns=columns)\n",
    "    return df_results\n"
   ]
  },
  {
   "cell_type": "code",
   "execution_count": 1043,
   "id": "a13e5c88",
   "metadata": {},
   "outputs": [
    {
     "name": "stdout",
     "output_type": "stream",
     "text": [
      "XGBoost AUC: 0.8954393770856507\n"
     ]
    },
    {
     "name": "stderr",
     "output_type": "stream",
     "text": [
      "c:\\Users\\hohih\\ivh\\.venv\\Lib\\site-packages\\xgboost\\core.py:158: UserWarning: [16:47:52] WARNING: C:\\buildkite-agent\\builds\\buildkite-windows-cpu-autoscaling-group-i-0015a694724fa8361-1\\xgboost\\xgboost-ci-windows\\src\\learner.cc:740: \n",
      "Parameters: { \"use_label_encoder\" } are not used.\n",
      "\n",
      "  warnings.warn(smsg, UserWarning)\n"
     ]
    }
   ],
   "source": [
    "import xgboost as xgb\n",
    "\n",
    "# Initialize XGBoost\n",
    "xgb_model = xgb.XGBClassifier(use_label_encoder=False, eval_metric='logloss')\n",
    "\n",
    "# Train the model\n",
    "xgb_model.fit(X_train_reduced, y_train)\n",
    "\n",
    "# Predict probabilities on the validation set\n",
    "y_val_prob_xgb = xgb_model.predict_proba(X_val_reduced)[:, 1]\n",
    "\n",
    "# Calculate AUC\n",
    "auc_xgb = roc_auc_score(y_val, y_val_prob_xgb)\n",
    "print(f\"XGBoost AUC: {auc_xgb}\")\n"
   ]
  },
  {
   "cell_type": "markdown",
   "id": "7b408539",
   "metadata": {},
   "source": [
    "## Training on the full training dataset & Test"
   ]
  },
  {
   "cell_type": "code",
   "execution_count": 1113,
   "id": "64dfb353",
   "metadata": {},
   "outputs": [],
   "source": [
    "#y_full_train = df_full_train['grad_ivh']\n",
    "#del df_full_train['grad_ivh']\n",
    "\n",
    "full_train_dicts = df_full_train.to_dict(orient='records')\n",
    "dv = DictVectorizer(sparse = False)\n",
    "X_full_train = dv.fit_transform(full_train_dicts)\n",
    "\n",
    "test_dicts = df_test.to_dict(orient='records')\n",
    "X_test  = dv.transform(test_dicts)"
   ]
  },
  {
   "cell_type": "code",
   "execution_count": 1114,
   "id": "9c0ee8e8",
   "metadata": {},
   "outputs": [
    {
     "name": "stdout",
     "output_type": "stream",
     "text": [
      "Validation AUC:  0.8462918660287081\n"
     ]
    }
   ],
   "source": [
    "# Standardize features to ensure regularization is effective\n",
    "scaler = StandardScaler()\n",
    "X_full_train_scaled = scaler.fit_transform(X_full_train)\n",
    "# L1 Regularized Logistic Regression (Lasso)\n",
    "lasso = LogisticRegression(penalty='l1', solver='liblinear', C=0.1)  # C controls regularization strength (smaller C = stronger regularization)\n",
    "\n",
    "# Fit model on training data\n",
    "lasso.fit(X_full_train_scaled, y_full_train)\n",
    "\n",
    "# Get the coefficients\n",
    "coefficients = lasso.coef_.ravel()\n",
    "\n",
    "selected_indices = np.where(coefficients != 0)[0]\n",
    "X_train_reduced = X_train[:, selected_indices]\n",
    "X_test_reduced = X_test[:, selected_indices]\n",
    "X_full_train_reduced = X_full_train[:, selected_indices]\n",
    "\n",
    "# Initialize Random Forest\n",
    "rf_model = RandomForestClassifier(n_estimators=100, random_state=42)\n",
    "\n",
    "# Train the model\n",
    "rf_model.fit(X_train_reduced, y_train)\n",
    "\n",
    "# Predict probabilities on the validation set\n",
    "y_test_pred = rf_model.predict_proba(X_test_reduced)[:, 1] #(rf_model.predict_proba(X_test_reduced)[:, 1]>0.5).astype('int')\n",
    "\n",
    "#print(classification_report(y_test, y_test_pred))\n",
    "print(\"Test AUC: \", roc_auc_score(y_test, y_test_pred))"
   ]
  },
  {
   "cell_type": "code",
   "execution_count": 1111,
   "id": "f9fe32ba",
   "metadata": {},
   "outputs": [
    {
     "name": "stdout",
     "output_type": "stream",
     "text": [
      "Random Forest AUC: 0.8582535885167465\n",
      "              precision    recall  f1-score   support\n",
      "\n",
      "           0       0.81      0.89      0.85        38\n",
      "           1       0.78      0.64      0.70        22\n",
      "\n",
      "    accuracy                           0.80        60\n",
      "   macro avg       0.79      0.77      0.77        60\n",
      "weighted avg       0.80      0.80      0.79        60\n",
      "\n"
     ]
    }
   ],
   "source": [
    "# Initialize Random Forest\n",
    "rf_model = RandomForestClassifier(n_estimators=100, random_state=42)\n",
    "\n",
    "# Train the model\n",
    "rf_model.fit(X_full_train_reduced, y_full_train)\n",
    "\n",
    "# Predict probabilities on the validation set\n",
    "y_test_prob_rf = rf_model.predict_proba(X_test_reduced)[:, 1]\n",
    "\n",
    "# Calculate AUC\n",
    "auc_rf = roc_auc_score(y_test, y_test_prob_rf)\n",
    "print(f\"Random Forest AUC: {auc_rf}\")\n",
    "print(classification_report(y_test, (y_test_prob_rf>0.59).astype('int')))\n"
   ]
  },
  {
   "cell_type": "markdown",
   "id": "e4465905",
   "metadata": {},
   "source": [
    "### Finetuning XG boost"
   ]
  },
  {
   "cell_type": "code",
   "execution_count": 1121,
   "id": "912bd888",
   "metadata": {},
   "outputs": [],
   "source": [
    "features = list(dv.get_feature_names_out())\n",
    "dtrain = xgb.DMatrix(X_train_reduced, label=y_train)"
   ]
  },
  {
   "cell_type": "code",
   "execution_count": 1123,
   "id": "e7d1d795",
   "metadata": {},
   "outputs": [],
   "source": [
    "dval = xgb.DMatrix(X_val_reduced, label=y_val)"
   ]
  },
  {
   "cell_type": "code",
   "execution_count": 1124,
   "id": "68cb5ee7",
   "metadata": {},
   "outputs": [],
   "source": [
    "watchlist = [(dtrain, 'train'),(dval, 'val')]"
   ]
  },
  {
   "cell_type": "code",
   "execution_count": 1183,
   "id": "0992dc18",
   "metadata": {},
   "outputs": [],
   "source": [
    "%%capture output\n",
    "xgb_params = {\n",
    "    'eta': 0.05, # learning rate\n",
    "    'max_depth': 6,\n",
    "    'min_child_weight': 1, # same as min_samples_leaf\n",
    "    'objective': 'binary:logistic', # binary classification\n",
    "    'nthreads': 8, #parallelization of training\n",
    "\n",
    "    'eval_metric': 'auc',\n",
    "    'seed': 1, \n",
    "    'verbosity':1, # show only warnings\n",
    "}\n",
    "model = xgb.train(xgb_params, \n",
    "                  dtrain, \n",
    "                  verbose_eval=5,\n",
    "                  evals=watchlist,\n",
    "                  num_boost_round = 300\n",
    "                  )"
   ]
  },
  {
   "cell_type": "code",
   "execution_count": 1184,
   "id": "088d6ec2",
   "metadata": {},
   "outputs": [
    {
     "data": {
      "text/plain": [
       "0.8943270300333704"
      ]
     },
     "execution_count": 1184,
     "metadata": {},
     "output_type": "execute_result"
    }
   ],
   "source": [
    "y_pred = model.predict(dval)\n",
    "roc_auc_score(y_val,y_pred)"
   ]
  },
  {
   "cell_type": "code",
   "execution_count": 1162,
   "id": "5d218556",
   "metadata": {},
   "outputs": [
    {
     "data": {
      "text/plain": [
       "<matplotlib.legend.Legend at 0x1adc9331d50>"
      ]
     },
     "execution_count": 1162,
     "metadata": {},
     "output_type": "execute_result"
    },
    {
     "data": {
      "image/png": "[encoded data removed]",
      "text/plain": [
       "<Figure size 640x480 with 1 Axes>"
      ]
     },
     "metadata": {},
     "output_type": "display_data"
    }
   ],
   "source": [
    "df_score = parse_xgb_output(output)\n",
    "#plt.plot(df_score.num_iter,df_score.train_auc, label = 'train')\n",
    "plt.plot(df_score.num_iter,df_score.val_auc, label = 'val')\n",
    "plt.legend()"
   ]
  },
  {
   "cell_type": "code",
   "execution_count": 1117,
   "id": "02888873",
   "metadata": {},
   "outputs": [
    {
     "name": "stdout",
     "output_type": "stream",
     "text": [
      "Random Forest AUC: 0.8582535885167465\n",
      "              precision    recall  f1-score   support\n",
      "\n",
      "           0       0.81      0.92      0.86        38\n",
      "           1       0.82      0.64      0.72        22\n",
      "\n",
      "    accuracy                           0.82        60\n",
      "   macro avg       0.82      0.78      0.79        60\n",
      "weighted avg       0.82      0.82      0.81        60\n",
      "\n",
      "Random Forest AUC: 0.8582535885167465\n"
     ]
    },
    {
     "data": {
      "image/png": "[encoded data removed]",
      "text/plain": [
       "<Figure size 640x480 with 1 Axes>"
      ]
     },
     "metadata": {},
     "output_type": "display_data"
    }
   ],
   "source": [
    "from sklearn.ensemble import RandomForestClassifier\n",
    "\n",
    "# Initialize Random Forest\n",
    "rf_model = RandomForestClassifier(n_estimators=100, random_state=42)\n",
    "\n",
    "# Train the model\n",
    "rf_model.fit(X_full_train_reduced, y_full_train)\n",
    "\n",
    "# Predict probabilities on the validation set\n",
    "y_test_prob_rf = rf_model.predict_proba(X_test_reduced)[:, 1]\n",
    "\n",
    "# Calculate AUC\n",
    "auc_rf = roc_auc_score(y_test, y_test_prob_rf)\n",
    "print(f\"Random Forest AUC: {auc_rf}\")\n"
   ]
  },
  {
   "cell_type": "code",
   "execution_count": null,
   "id": "9a53e18b",
   "metadata": {},
   "outputs": [],
   "source": [
    "threshold = np.linspace(0,1,21) # first last, size#\n",
    "scores = []\n",
    "for t in threshold:\n",
    "    churn_decision = (y_test_prob_rf>= t)\n",
    "    score = (y_test == churn_decision).mean()\n",
    "    scores.append(score)\n",
    "plt.plot(threshold, scores)\n",
    "print(classification_report(y_test, (y_test_prob_rf>0.6).astype('int')))\n",
    "print(f\"Random Forest AUC: {auc_rf}\")"
   ]
  }
 ],
 "metadata": {
  "kernelspec": {
   "display_name": ".venv",
   "language": "python",
   "name": "python3"
  },
  "language_info": {
   "codemirror_mode": {
    "name": "ipython",
    "version": 3
   },
   "file_extension": ".py",
   "mimetype": "text/x-python",
   "name": "python",
   "nbconvert_exporter": "python",
   "pygments_lexer": "ipython3",
   "version": "3.11.9"
  }
 },
 "nbformat": 4,
 "nbformat_minor": 5
}
